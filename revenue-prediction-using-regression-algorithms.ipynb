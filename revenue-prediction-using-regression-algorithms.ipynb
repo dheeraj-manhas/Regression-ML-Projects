{
 "cells": [
  {
   "cell_type": "code",
   "execution_count": 1,
   "id": "73736e89",
   "metadata": {
    "_cell_guid": "b1076dfc-b9ad-4769-8c92-a6c4dae69d19",
    "_uuid": "8f2839f25d086af736a60e9eeb907d3b93b6e0e5",
    "execution": {
     "iopub.execute_input": "2024-05-11T08:00:31.950722Z",
     "iopub.status.busy": "2024-05-11T08:00:31.949721Z",
     "iopub.status.idle": "2024-05-11T08:00:33.763782Z",
     "shell.execute_reply": "2024-05-11T08:00:33.762781Z"
    },
    "papermill": {
     "duration": 1.833775,
     "end_time": "2024-05-11T08:00:33.766461",
     "exception": false,
     "start_time": "2024-05-11T08:00:31.932686",
     "status": "completed"
    },
    "tags": []
   },
   "outputs": [
    {
     "name": "stdout",
     "output_type": "stream",
     "text": [
      "/kaggle/input/stores-dataset/Stores.csv\n"
     ]
    }
   ],
   "source": [
    "# This Python 3 environment comes with many helpful analytics libraries installed\n",
    "# It is defined by the kaggle/python Docker image: https://github.com/kaggle/docker-python\n",
    "# For example, here's several helpful packages to load\n",
    "\n",
    "import numpy as np \n",
    "import pandas as pd \n",
    "import matplotlib.pyplot as plt\n",
    "import seaborn as sns\n",
    "import warnings\n",
    "warnings.simplefilter('ignore')\n",
    "# Input data files are available in the read-only \"../input/\" directory\n",
    "# For example, running this (by clicking run or pressing Shift+Enter) will list all files under the input directory\n",
    "\n",
    "import os\n",
    "for dirname, _, filenames in os.walk('/kaggle/input'):\n",
    "    for filename in filenames:\n",
    "        print(os.path.join(dirname, filename))\n",
    "\n",
    "# You can write up to 20GB to the current directory (/kaggle/working/) that gets preserved as output when you create a version using \"Save & Run All\" \n",
    "# You can also write temporary files to /kaggle/temp/, but they won't be saved outside of the current session"
   ]
  },
  {
   "cell_type": "code",
   "execution_count": 2,
   "id": "5b715392",
   "metadata": {
    "execution": {
     "iopub.execute_input": "2024-05-11T08:00:33.799135Z",
     "iopub.status.busy": "2024-05-11T08:00:33.798627Z",
     "iopub.status.idle": "2024-05-11T08:00:33.837422Z",
     "shell.execute_reply": "2024-05-11T08:00:33.836507Z"
    },
    "papermill": {
     "duration": 0.057922,
     "end_time": "2024-05-11T08:00:33.839547",
     "exception": false,
     "start_time": "2024-05-11T08:00:33.781625",
     "status": "completed"
    },
    "tags": []
   },
   "outputs": [
    {
     "data": {
      "text/html": [
       "<div>\n",
       "<style scoped>\n",
       "    .dataframe tbody tr th:only-of-type {\n",
       "        vertical-align: middle;\n",
       "    }\n",
       "\n",
       "    .dataframe tbody tr th {\n",
       "        vertical-align: top;\n",
       "    }\n",
       "\n",
       "    .dataframe thead th {\n",
       "        text-align: right;\n",
       "    }\n",
       "</style>\n",
       "<table border=\"1\" class=\"dataframe\">\n",
       "  <thead>\n",
       "    <tr style=\"text-align: right;\">\n",
       "      <th></th>\n",
       "      <th>Store Number</th>\n",
       "      <th>AreaStore</th>\n",
       "      <th>Property</th>\n",
       "      <th>Type</th>\n",
       "      <th>Old/New</th>\n",
       "      <th>Checkout Number</th>\n",
       "      <th>Revenue</th>\n",
       "    </tr>\n",
       "  </thead>\n",
       "  <tbody>\n",
       "    <tr>\n",
       "      <th>0</th>\n",
       "      <td>1</td>\n",
       "      <td>2100.0</td>\n",
       "      <td>Owned</td>\n",
       "      <td>Hyper</td>\n",
       "      <td>New</td>\n",
       "      <td>6.0</td>\n",
       "      <td>45,072,000</td>\n",
       "    </tr>\n",
       "    <tr>\n",
       "      <th>1</th>\n",
       "      <td>2</td>\n",
       "      <td>1290.0</td>\n",
       "      <td>Cooperate</td>\n",
       "      <td>Extra</td>\n",
       "      <td>New</td>\n",
       "      <td>5.0</td>\n",
       "      <td>7,416,000</td>\n",
       "    </tr>\n",
       "    <tr>\n",
       "      <th>2</th>\n",
       "      <td>3</td>\n",
       "      <td>500.0</td>\n",
       "      <td>Rental</td>\n",
       "      <td>Express</td>\n",
       "      <td>New</td>\n",
       "      <td>NaN</td>\n",
       "      <td>8,592,000</td>\n",
       "    </tr>\n",
       "    <tr>\n",
       "      <th>3</th>\n",
       "      <td>4</td>\n",
       "      <td>2000.0</td>\n",
       "      <td>Owned</td>\n",
       "      <td>Hyper</td>\n",
       "      <td>New</td>\n",
       "      <td>9.0</td>\n",
       "      <td>48,415,500</td>\n",
       "    </tr>\n",
       "    <tr>\n",
       "      <th>4</th>\n",
       "      <td>5</td>\n",
       "      <td>220.0</td>\n",
       "      <td>Rental</td>\n",
       "      <td>Express</td>\n",
       "      <td>Old</td>\n",
       "      <td>2.0</td>\n",
       "      <td>3,345,500</td>\n",
       "    </tr>\n",
       "    <tr>\n",
       "      <th>...</th>\n",
       "      <td>...</td>\n",
       "      <td>...</td>\n",
       "      <td>...</td>\n",
       "      <td>...</td>\n",
       "      <td>...</td>\n",
       "      <td>...</td>\n",
       "      <td>...</td>\n",
       "    </tr>\n",
       "    <tr>\n",
       "      <th>113</th>\n",
       "      <td>114</td>\n",
       "      <td>1800.0</td>\n",
       "      <td>Rental/Cooperate</td>\n",
       "      <td>Extra</td>\n",
       "      <td>New</td>\n",
       "      <td>9.0</td>\n",
       "      <td>13,471,000</td>\n",
       "    </tr>\n",
       "    <tr>\n",
       "      <th>114</th>\n",
       "      <td>115</td>\n",
       "      <td>1700.0</td>\n",
       "      <td>Owned</td>\n",
       "      <td>Extra</td>\n",
       "      <td>New</td>\n",
       "      <td>6.0</td>\n",
       "      <td>29,974,500</td>\n",
       "    </tr>\n",
       "    <tr>\n",
       "      <th>115</th>\n",
       "      <td>116</td>\n",
       "      <td>500.0</td>\n",
       "      <td>Rental/Cooperate</td>\n",
       "      <td>Express</td>\n",
       "      <td>New</td>\n",
       "      <td>2.0</td>\n",
       "      <td>11,031,500</td>\n",
       "    </tr>\n",
       "    <tr>\n",
       "      <th>116</th>\n",
       "      <td>117</td>\n",
       "      <td>200.0</td>\n",
       "      <td>Rental/Cooperate</td>\n",
       "      <td>Express</td>\n",
       "      <td>New</td>\n",
       "      <td>2.0</td>\n",
       "      <td>6,173,500</td>\n",
       "    </tr>\n",
       "    <tr>\n",
       "      <th>117</th>\n",
       "      <td>118</td>\n",
       "      <td>420.0</td>\n",
       "      <td>Cooperate</td>\n",
       "      <td>Express</td>\n",
       "      <td>Old</td>\n",
       "      <td>3.0</td>\n",
       "      <td>10,643,000</td>\n",
       "    </tr>\n",
       "  </tbody>\n",
       "</table>\n",
       "<p>118 rows × 7 columns</p>\n",
       "</div>"
      ],
      "text/plain": [
       "     Store Number  AreaStore          Property     Type Old/New  \\\n",
       "0               1     2100.0             Owned    Hyper     New   \n",
       "1               2     1290.0         Cooperate    Extra     New   \n",
       "2               3      500.0            Rental  Express     New   \n",
       "3               4     2000.0             Owned    Hyper     New   \n",
       "4               5      220.0            Rental  Express     Old   \n",
       "..            ...        ...               ...      ...     ...   \n",
       "113           114     1800.0  Rental/Cooperate    Extra     New   \n",
       "114           115     1700.0            Owned     Extra     New   \n",
       "115           116      500.0  Rental/Cooperate  Express     New   \n",
       "116           117      200.0  Rental/Cooperate  Express     New   \n",
       "117           118      420.0         Cooperate  Express    Old    \n",
       "\n",
       "     Checkout Number     Revenue  \n",
       "0                6.0  45,072,000  \n",
       "1                5.0   7,416,000  \n",
       "2                NaN   8,592,000  \n",
       "3                9.0  48,415,500  \n",
       "4                2.0   3,345,500  \n",
       "..               ...         ...  \n",
       "113              9.0  13,471,000  \n",
       "114              6.0  29,974,500  \n",
       "115              2.0  11,031,500  \n",
       "116              2.0   6,173,500  \n",
       "117              3.0  10,643,000  \n",
       "\n",
       "[118 rows x 7 columns]"
      ]
     },
     "execution_count": 2,
     "metadata": {},
     "output_type": "execute_result"
    }
   ],
   "source": [
    "df = pd.read_csv('/kaggle/input/stores-dataset/Stores.csv')\n",
    "df"
   ]
  },
  {
   "cell_type": "markdown",
   "id": "207b751a",
   "metadata": {
    "papermill": {
     "duration": 0.014691,
     "end_time": "2024-05-11T08:00:33.869545",
     "exception": false,
     "start_time": "2024-05-11T08:00:33.854854",
     "status": "completed"
    },
    "tags": []
   },
   "source": [
    "# Data Understanding"
   ]
  },
  {
   "cell_type": "code",
   "execution_count": 3,
   "id": "1e371228",
   "metadata": {
    "execution": {
     "iopub.execute_input": "2024-05-11T08:00:33.901145Z",
     "iopub.status.busy": "2024-05-11T08:00:33.900432Z",
     "iopub.status.idle": "2024-05-11T08:00:33.920172Z",
     "shell.execute_reply": "2024-05-11T08:00:33.918982Z"
    },
    "papermill": {
     "duration": 0.037746,
     "end_time": "2024-05-11T08:00:33.922201",
     "exception": false,
     "start_time": "2024-05-11T08:00:33.884455",
     "status": "completed"
    },
    "tags": []
   },
   "outputs": [
    {
     "name": "stdout",
     "output_type": "stream",
     "text": [
      "<class 'pandas.core.frame.DataFrame'>\n",
      "RangeIndex: 118 entries, 0 to 117\n",
      "Data columns (total 7 columns):\n",
      " #   Column           Non-Null Count  Dtype  \n",
      "---  ------           --------------  -----  \n",
      " 0   Store Number     118 non-null    int64  \n",
      " 1   AreaStore        118 non-null    float64\n",
      " 2   Property         118 non-null    object \n",
      " 3   Type             118 non-null    object \n",
      " 4   Old/New          118 non-null    object \n",
      " 5   Checkout Number  106 non-null    float64\n",
      " 6   Revenue          118 non-null    object \n",
      "dtypes: float64(2), int64(1), object(4)\n",
      "memory usage: 6.6+ KB\n"
     ]
    }
   ],
   "source": [
    "df.info()"
   ]
  },
  {
   "cell_type": "code",
   "execution_count": 4,
   "id": "a41a2d35",
   "metadata": {
    "execution": {
     "iopub.execute_input": "2024-05-11T08:00:33.954131Z",
     "iopub.status.busy": "2024-05-11T08:00:33.953425Z",
     "iopub.status.idle": "2024-05-11T08:00:33.959648Z",
     "shell.execute_reply": "2024-05-11T08:00:33.958834Z"
    },
    "papermill": {
     "duration": 0.024378,
     "end_time": "2024-05-11T08:00:33.961648",
     "exception": false,
     "start_time": "2024-05-11T08:00:33.937270",
     "status": "completed"
    },
    "tags": []
   },
   "outputs": [],
   "source": [
    "df['Revenue'] = df['Revenue'].str.replace(',', '').astype('float')"
   ]
  },
  {
   "cell_type": "code",
   "execution_count": 5,
   "id": "23fcc47f",
   "metadata": {
    "execution": {
     "iopub.execute_input": "2024-05-11T08:00:33.993389Z",
     "iopub.status.busy": "2024-05-11T08:00:33.993045Z",
     "iopub.status.idle": "2024-05-11T08:00:34.014060Z",
     "shell.execute_reply": "2024-05-11T08:00:34.013158Z"
    },
    "papermill": {
     "duration": 0.039231,
     "end_time": "2024-05-11T08:00:34.016059",
     "exception": false,
     "start_time": "2024-05-11T08:00:33.976828",
     "status": "completed"
    },
    "tags": []
   },
   "outputs": [
    {
     "data": {
      "text/html": [
       "<div>\n",
       "<style scoped>\n",
       "    .dataframe tbody tr th:only-of-type {\n",
       "        vertical-align: middle;\n",
       "    }\n",
       "\n",
       "    .dataframe tbody tr th {\n",
       "        vertical-align: top;\n",
       "    }\n",
       "\n",
       "    .dataframe thead th {\n",
       "        text-align: right;\n",
       "    }\n",
       "</style>\n",
       "<table border=\"1\" class=\"dataframe\">\n",
       "  <thead>\n",
       "    <tr style=\"text-align: right;\">\n",
       "      <th></th>\n",
       "      <th>Store Number</th>\n",
       "      <th>AreaStore</th>\n",
       "      <th>Checkout Number</th>\n",
       "      <th>Revenue</th>\n",
       "    </tr>\n",
       "  </thead>\n",
       "  <tbody>\n",
       "    <tr>\n",
       "      <th>count</th>\n",
       "      <td>118.000000</td>\n",
       "      <td>118.000000</td>\n",
       "      <td>106.000000</td>\n",
       "      <td>1.180000e+02</td>\n",
       "    </tr>\n",
       "    <tr>\n",
       "      <th>mean</th>\n",
       "      <td>59.500000</td>\n",
       "      <td>1373.608136</td>\n",
       "      <td>4.792453</td>\n",
       "      <td>2.299805e+07</td>\n",
       "    </tr>\n",
       "    <tr>\n",
       "      <th>std</th>\n",
       "      <td>34.207699</td>\n",
       "      <td>1092.453470</td>\n",
       "      <td>2.820729</td>\n",
       "      <td>2.051452e+07</td>\n",
       "    </tr>\n",
       "    <tr>\n",
       "      <th>min</th>\n",
       "      <td>1.000000</td>\n",
       "      <td>82.000000</td>\n",
       "      <td>1.000000</td>\n",
       "      <td>2.336000e+06</td>\n",
       "    </tr>\n",
       "    <tr>\n",
       "      <th>25%</th>\n",
       "      <td>30.250000</td>\n",
       "      <td>530.500000</td>\n",
       "      <td>3.000000</td>\n",
       "      <td>9.021375e+06</td>\n",
       "    </tr>\n",
       "    <tr>\n",
       "      <th>50%</th>\n",
       "      <td>59.500000</td>\n",
       "      <td>1000.000000</td>\n",
       "      <td>4.000000</td>\n",
       "      <td>1.358475e+07</td>\n",
       "    </tr>\n",
       "    <tr>\n",
       "      <th>75%</th>\n",
       "      <td>88.750000</td>\n",
       "      <td>1887.500000</td>\n",
       "      <td>6.000000</td>\n",
       "      <td>3.105050e+07</td>\n",
       "    </tr>\n",
       "    <tr>\n",
       "      <th>max</th>\n",
       "      <td>118.000000</td>\n",
       "      <td>5600.000000</td>\n",
       "      <td>14.000000</td>\n",
       "      <td>1.000830e+08</td>\n",
       "    </tr>\n",
       "  </tbody>\n",
       "</table>\n",
       "</div>"
      ],
      "text/plain": [
       "       Store Number    AreaStore  Checkout Number       Revenue\n",
       "count    118.000000   118.000000       106.000000  1.180000e+02\n",
       "mean      59.500000  1373.608136         4.792453  2.299805e+07\n",
       "std       34.207699  1092.453470         2.820729  2.051452e+07\n",
       "min        1.000000    82.000000         1.000000  2.336000e+06\n",
       "25%       30.250000   530.500000         3.000000  9.021375e+06\n",
       "50%       59.500000  1000.000000         4.000000  1.358475e+07\n",
       "75%       88.750000  1887.500000         6.000000  3.105050e+07\n",
       "max      118.000000  5600.000000        14.000000  1.000830e+08"
      ]
     },
     "execution_count": 5,
     "metadata": {},
     "output_type": "execute_result"
    }
   ],
   "source": [
    "df.describe()"
   ]
  },
  {
   "cell_type": "markdown",
   "id": "5c00f8ee",
   "metadata": {
    "papermill": {
     "duration": 0.015159,
     "end_time": "2024-05-11T08:00:34.046959",
     "exception": false,
     "start_time": "2024-05-11T08:00:34.031800",
     "status": "completed"
    },
    "tags": []
   },
   "source": [
    "**Checking for Missing values**"
   ]
  },
  {
   "cell_type": "code",
   "execution_count": 6,
   "id": "59e88fb2",
   "metadata": {
    "execution": {
     "iopub.execute_input": "2024-05-11T08:00:34.079425Z",
     "iopub.status.busy": "2024-05-11T08:00:34.078676Z",
     "iopub.status.idle": "2024-05-11T08:00:34.086258Z",
     "shell.execute_reply": "2024-05-11T08:00:34.085239Z"
    },
    "papermill": {
     "duration": 0.026025,
     "end_time": "2024-05-11T08:00:34.088374",
     "exception": false,
     "start_time": "2024-05-11T08:00:34.062349",
     "status": "completed"
    },
    "tags": []
   },
   "outputs": [
    {
     "data": {
      "text/plain": [
       "Store Number        0\n",
       "AreaStore           0\n",
       "Property            0\n",
       "Type                0\n",
       "Old/New             0\n",
       "Checkout Number    12\n",
       "Revenue             0\n",
       "dtype: int64"
      ]
     },
     "execution_count": 6,
     "metadata": {},
     "output_type": "execute_result"
    }
   ],
   "source": [
    "df.isnull().sum() "
   ]
  },
  {
   "cell_type": "markdown",
   "id": "a4fcb014",
   "metadata": {
    "papermill": {
     "duration": 0.014938,
     "end_time": "2024-05-11T08:00:34.118638",
     "exception": false,
     "start_time": "2024-05-11T08:00:34.103700",
     "status": "completed"
    },
    "tags": []
   },
   "source": [
    "**Checking for Duplicate values**"
   ]
  },
  {
   "cell_type": "code",
   "execution_count": 7,
   "id": "58d72c51",
   "metadata": {
    "execution": {
     "iopub.execute_input": "2024-05-11T08:00:34.151071Z",
     "iopub.status.busy": "2024-05-11T08:00:34.150650Z",
     "iopub.status.idle": "2024-05-11T08:00:34.159424Z",
     "shell.execute_reply": "2024-05-11T08:00:34.158361Z"
    },
    "papermill": {
     "duration": 0.027735,
     "end_time": "2024-05-11T08:00:34.161666",
     "exception": false,
     "start_time": "2024-05-11T08:00:34.133931",
     "status": "completed"
    },
    "tags": []
   },
   "outputs": [
    {
     "data": {
      "text/plain": [
       "0"
      ]
     },
     "execution_count": 7,
     "metadata": {},
     "output_type": "execute_result"
    }
   ],
   "source": [
    "df.duplicated().sum() "
   ]
  },
  {
   "cell_type": "code",
   "execution_count": 8,
   "id": "198f5111",
   "metadata": {
    "execution": {
     "iopub.execute_input": "2024-05-11T08:00:34.195543Z",
     "iopub.status.busy": "2024-05-11T08:00:34.194614Z",
     "iopub.status.idle": "2024-05-11T08:00:34.199708Z",
     "shell.execute_reply": "2024-05-11T08:00:34.198693Z"
    },
    "papermill": {
     "duration": 0.024303,
     "end_time": "2024-05-11T08:00:34.201857",
     "exception": false,
     "start_time": "2024-05-11T08:00:34.177554",
     "status": "completed"
    },
    "tags": []
   },
   "outputs": [],
   "source": [
    "continous_variables = ['Store Number','AreaStore','Revenue']\n",
    "discrete_count = ['Checkout Number']\n",
    "discrete_categorical = ['Property','Type','Old/New']"
   ]
  },
  {
   "cell_type": "code",
   "execution_count": 9,
   "id": "38d4667b",
   "metadata": {
    "execution": {
     "iopub.execute_input": "2024-05-11T08:00:34.235489Z",
     "iopub.status.busy": "2024-05-11T08:00:34.234613Z",
     "iopub.status.idle": "2024-05-11T08:00:34.242710Z",
     "shell.execute_reply": "2024-05-11T08:00:34.241772Z"
    },
    "papermill": {
     "duration": 0.027041,
     "end_time": "2024-05-11T08:00:34.244840",
     "exception": false,
     "start_time": "2024-05-11T08:00:34.217799",
     "status": "completed"
    },
    "tags": []
   },
   "outputs": [
    {
     "data": {
      "text/plain": [
       "Property\n",
       "Owned               39\n",
       "Cooperate           27\n",
       "Rental              26\n",
       "Rental/Cooperate    15\n",
       "Rental               7\n",
       "Owned                2\n",
       "Cooperate            2\n",
       "Name: count, dtype: int64"
      ]
     },
     "execution_count": 9,
     "metadata": {},
     "output_type": "execute_result"
    }
   ],
   "source": [
    "df['Property'].value_counts()"
   ]
  },
  {
   "cell_type": "code",
   "execution_count": 10,
   "id": "6857779d",
   "metadata": {
    "execution": {
     "iopub.execute_input": "2024-05-11T08:00:34.278059Z",
     "iopub.status.busy": "2024-05-11T08:00:34.277311Z",
     "iopub.status.idle": "2024-05-11T08:00:34.284027Z",
     "shell.execute_reply": "2024-05-11T08:00:34.283101Z"
    },
    "papermill": {
     "duration": 0.025435,
     "end_time": "2024-05-11T08:00:34.285941",
     "exception": false,
     "start_time": "2024-05-11T08:00:34.260506",
     "status": "completed"
    },
    "tags": []
   },
   "outputs": [
    {
     "data": {
      "text/plain": [
       "array(['Owned', 'Cooperate', 'Rental', 'Owned ', 'Rental ',\n",
       "       'Rental/Cooperate', 'Cooperate '], dtype=object)"
      ]
     },
     "execution_count": 10,
     "metadata": {},
     "output_type": "execute_result"
    }
   ],
   "source": [
    "df['Property'].unique()"
   ]
  },
  {
   "cell_type": "code",
   "execution_count": 11,
   "id": "34251780",
   "metadata": {
    "execution": {
     "iopub.execute_input": "2024-05-11T08:00:34.319362Z",
     "iopub.status.busy": "2024-05-11T08:00:34.318499Z",
     "iopub.status.idle": "2024-05-11T08:00:34.326538Z",
     "shell.execute_reply": "2024-05-11T08:00:34.325393Z"
    },
    "papermill": {
     "duration": 0.027014,
     "end_time": "2024-05-11T08:00:34.328662",
     "exception": false,
     "start_time": "2024-05-11T08:00:34.301648",
     "status": "completed"
    },
    "tags": []
   },
   "outputs": [
    {
     "data": {
      "text/plain": [
       "Type\n",
       "Express    55\n",
       "Extra      36\n",
       "Hyper      27\n",
       "Name: count, dtype: int64"
      ]
     },
     "execution_count": 11,
     "metadata": {},
     "output_type": "execute_result"
    }
   ],
   "source": [
    "df['Type'].value_counts()"
   ]
  },
  {
   "cell_type": "code",
   "execution_count": 12,
   "id": "ebb149ee",
   "metadata": {
    "execution": {
     "iopub.execute_input": "2024-05-11T08:00:34.364419Z",
     "iopub.status.busy": "2024-05-11T08:00:34.363554Z",
     "iopub.status.idle": "2024-05-11T08:00:34.371333Z",
     "shell.execute_reply": "2024-05-11T08:00:34.370352Z"
    },
    "papermill": {
     "duration": 0.027063,
     "end_time": "2024-05-11T08:00:34.373280",
     "exception": false,
     "start_time": "2024-05-11T08:00:34.346217",
     "status": "completed"
    },
    "tags": []
   },
   "outputs": [
    {
     "data": {
      "text/plain": [
       "Old/New\n",
       "New     93\n",
       "Old     11\n",
       "New      9\n",
       "Old      5\n",
       "Name: count, dtype: int64"
      ]
     },
     "execution_count": 12,
     "metadata": {},
     "output_type": "execute_result"
    }
   ],
   "source": [
    "df['Old/New'].value_counts()"
   ]
  },
  {
   "cell_type": "code",
   "execution_count": 13,
   "id": "4748c793",
   "metadata": {
    "execution": {
     "iopub.execute_input": "2024-05-11T08:00:34.407401Z",
     "iopub.status.busy": "2024-05-11T08:00:34.407053Z",
     "iopub.status.idle": "2024-05-11T08:00:34.413499Z",
     "shell.execute_reply": "2024-05-11T08:00:34.412611Z"
    },
    "papermill": {
     "duration": 0.026233,
     "end_time": "2024-05-11T08:00:34.415517",
     "exception": false,
     "start_time": "2024-05-11T08:00:34.389284",
     "status": "completed"
    },
    "tags": []
   },
   "outputs": [
    {
     "data": {
      "text/plain": [
       "array(['New', 'Old', 'New ', 'Old '], dtype=object)"
      ]
     },
     "execution_count": 13,
     "metadata": {},
     "output_type": "execute_result"
    }
   ],
   "source": [
    "df['Old/New'].unique()"
   ]
  },
  {
   "cell_type": "markdown",
   "id": "07735ded",
   "metadata": {
    "papermill": {
     "duration": 0.015888,
     "end_time": "2024-05-11T08:00:34.447554",
     "exception": false,
     "start_time": "2024-05-11T08:00:34.431666",
     "status": "completed"
    },
    "tags": []
   },
   "source": [
    "**Checking Correlation b/w Variables**"
   ]
  },
  {
   "cell_type": "code",
   "execution_count": 14,
   "id": "41aa69a2",
   "metadata": {
    "execution": {
     "iopub.execute_input": "2024-05-11T08:00:34.481332Z",
     "iopub.status.busy": "2024-05-11T08:00:34.480971Z",
     "iopub.status.idle": "2024-05-11T08:00:34.488279Z",
     "shell.execute_reply": "2024-05-11T08:00:34.487319Z"
    },
    "papermill": {
     "duration": 0.02669,
     "end_time": "2024-05-11T08:00:34.490342",
     "exception": false,
     "start_time": "2024-05-11T08:00:34.463652",
     "status": "completed"
    },
    "tags": []
   },
   "outputs": [],
   "source": [
    "corr = df[continous_variables].corr()"
   ]
  },
  {
   "cell_type": "code",
   "execution_count": 15,
   "id": "60e524f0",
   "metadata": {
    "execution": {
     "iopub.execute_input": "2024-05-11T08:00:34.576208Z",
     "iopub.status.busy": "2024-05-11T08:00:34.575348Z",
     "iopub.status.idle": "2024-05-11T08:00:34.930474Z",
     "shell.execute_reply": "2024-05-11T08:00:34.929475Z"
    },
    "papermill": {
     "duration": 0.374686,
     "end_time": "2024-05-11T08:00:34.932703",
     "exception": false,
     "start_time": "2024-05-11T08:00:34.558017",
     "status": "completed"
    },
    "tags": []
   },
   "outputs": [
    {
     "data": {
      "image/png": "[encoded data removed]",
      "text/plain": [
       "<Figure size 640x480 with 2 Axes>"
      ]
     },
     "metadata": {},
     "output_type": "display_data"
    }
   ],
   "source": [
    "sns.heatmap(corr,annot=True)\n",
    "plt.show()"
   ]
  },
  {
   "cell_type": "code",
   "execution_count": 16,
   "id": "7daad16f",
   "metadata": {
    "execution": {
     "iopub.execute_input": "2024-05-11T08:00:34.968240Z",
     "iopub.status.busy": "2024-05-11T08:00:34.967863Z",
     "iopub.status.idle": "2024-05-11T08:00:34.977216Z",
     "shell.execute_reply": "2024-05-11T08:00:34.976251Z"
    },
    "papermill": {
     "duration": 0.029563,
     "end_time": "2024-05-11T08:00:34.979226",
     "exception": false,
     "start_time": "2024-05-11T08:00:34.949663",
     "status": "completed"
    },
    "tags": []
   },
   "outputs": [
    {
     "data": {
      "text/plain": [
       "Store Number    0.000000\n",
       "AreaStore       1.560814\n",
       "Revenue         1.533846\n",
       "dtype: float64"
      ]
     },
     "execution_count": 16,
     "metadata": {},
     "output_type": "execute_result"
    }
   ],
   "source": [
    "df[continous_variables].skew()"
   ]
  },
  {
   "cell_type": "code",
   "execution_count": 17,
   "id": "5e143f45",
   "metadata": {
    "execution": {
     "iopub.execute_input": "2024-05-11T08:00:35.016086Z",
     "iopub.status.busy": "2024-05-11T08:00:35.015176Z",
     "iopub.status.idle": "2024-05-11T08:00:38.977904Z",
     "shell.execute_reply": "2024-05-11T08:00:38.976820Z"
    },
    "papermill": {
     "duration": 3.984772,
     "end_time": "2024-05-11T08:00:38.981527",
     "exception": false,
     "start_time": "2024-05-11T08:00:34.996755",
     "status": "completed"
    },
    "tags": []
   },
   "outputs": [
    {
     "data": {
      "image/png": "[encoded data removed]",
      "text/plain": [
       "<Figure size 1000x1000 with 20 Axes>"
      ]
     },
     "metadata": {},
     "output_type": "display_data"
    }
   ],
   "source": [
    "sns.pairplot(df)\n",
    "plt.show()"
   ]
  },
  {
   "cell_type": "markdown",
   "id": "5026bedf",
   "metadata": {
    "papermill": {
     "duration": 0.018567,
     "end_time": "2024-05-11T08:00:39.019890",
     "exception": false,
     "start_time": "2024-05-11T08:00:39.001323",
     "status": "completed"
    },
    "tags": []
   },
   "source": [
    "# Data Preprocessing"
   ]
  },
  {
   "cell_type": "markdown",
   "id": "93c0446f",
   "metadata": {
    "papermill": {
     "duration": 0.01837,
     "end_time": "2024-05-11T08:00:39.057070",
     "exception": false,
     "start_time": "2024-05-11T08:00:39.038700",
     "status": "completed"
    },
    "tags": []
   },
   "source": [
    "**Handling Missing values**"
   ]
  },
  {
   "cell_type": "code",
   "execution_count": 18,
   "id": "dbead543",
   "metadata": {
    "execution": {
     "iopub.execute_input": "2024-05-11T08:00:39.096799Z",
     "iopub.status.busy": "2024-05-11T08:00:39.096170Z",
     "iopub.status.idle": "2024-05-11T08:00:39.101736Z",
     "shell.execute_reply": "2024-05-11T08:00:39.100712Z"
    },
    "papermill": {
     "duration": 0.028066,
     "end_time": "2024-05-11T08:00:39.103766",
     "exception": false,
     "start_time": "2024-05-11T08:00:39.075700",
     "status": "completed"
    },
    "tags": []
   },
   "outputs": [],
   "source": [
    "df['Checkout Number'].fillna(df['Checkout Number'].mean(),inplace=True)"
   ]
  },
  {
   "cell_type": "markdown",
   "id": "fcfa5262",
   "metadata": {
    "papermill": {
     "duration": 0.018392,
     "end_time": "2024-05-11T08:00:39.141265",
     "exception": false,
     "start_time": "2024-05-11T08:00:39.122873",
     "status": "completed"
    },
    "tags": []
   },
   "source": [
    "**Changing Checkout Number datatype**"
   ]
  },
  {
   "cell_type": "code",
   "execution_count": 19,
   "id": "342d9d4b",
   "metadata": {
    "execution": {
     "iopub.execute_input": "2024-05-11T08:00:39.180436Z",
     "iopub.status.busy": "2024-05-11T08:00:39.179757Z",
     "iopub.status.idle": "2024-05-11T08:00:39.185150Z",
     "shell.execute_reply": "2024-05-11T08:00:39.184206Z"
    },
    "papermill": {
     "duration": 0.02731,
     "end_time": "2024-05-11T08:00:39.187181",
     "exception": false,
     "start_time": "2024-05-11T08:00:39.159871",
     "status": "completed"
    },
    "tags": []
   },
   "outputs": [],
   "source": [
    "df['Checkout Number'] = df['Checkout Number'].astype(int)"
   ]
  },
  {
   "cell_type": "markdown",
   "id": "92503704",
   "metadata": {
    "papermill": {
     "duration": 0.018505,
     "end_time": "2024-05-11T08:00:39.224600",
     "exception": false,
     "start_time": "2024-05-11T08:00:39.206095",
     "status": "completed"
    },
    "tags": []
   },
   "source": [
    "**Encoding**"
   ]
  },
  {
   "cell_type": "code",
   "execution_count": 20,
   "id": "45553795",
   "metadata": {
    "execution": {
     "iopub.execute_input": "2024-05-11T08:00:39.263928Z",
     "iopub.status.busy": "2024-05-11T08:00:39.263523Z",
     "iopub.status.idle": "2024-05-11T08:00:39.271021Z",
     "shell.execute_reply": "2024-05-11T08:00:39.269958Z"
    },
    "papermill": {
     "duration": 0.029561,
     "end_time": "2024-05-11T08:00:39.272978",
     "exception": false,
     "start_time": "2024-05-11T08:00:39.243417",
     "status": "completed"
    },
    "tags": []
   },
   "outputs": [],
   "source": [
    "df['Property'].replace({'Rental ':'Rental','Owned ':'Owned','Cooperate ':'Cooperate'},inplace=True)\n",
    "\n",
    "df['Old/New'].replace({'Old ':'Old','New ':'New'},inplace=True)"
   ]
  },
  {
   "cell_type": "code",
   "execution_count": 21,
   "id": "30253af6",
   "metadata": {
    "execution": {
     "iopub.execute_input": "2024-05-11T08:00:39.312510Z",
     "iopub.status.busy": "2024-05-11T08:00:39.311873Z",
     "iopub.status.idle": "2024-05-11T08:00:39.320280Z",
     "shell.execute_reply": "2024-05-11T08:00:39.319322Z"
    },
    "papermill": {
     "duration": 0.030438,
     "end_time": "2024-05-11T08:00:39.322232",
     "exception": false,
     "start_time": "2024-05-11T08:00:39.291794",
     "status": "completed"
    },
    "tags": []
   },
   "outputs": [],
   "source": [
    "df['Property'].replace({'Rental':0,'Owned':1,'Cooperate':2,'Rental/Cooperate':3},inplace=True)\n",
    "df['Type'].replace({'Express':0,'Extra':1,'Hyper':2},inplace=True)\n",
    "df['Old/New'].replace({'Old':1,'New':0},inplace=True)"
   ]
  },
  {
   "cell_type": "markdown",
   "id": "5f90da94",
   "metadata": {
    "papermill": {
     "duration": 0.026234,
     "end_time": "2024-05-11T08:00:39.373392",
     "exception": false,
     "start_time": "2024-05-11T08:00:39.347158",
     "status": "completed"
    },
    "tags": []
   },
   "source": [
    "**Deleting Store Number column bcz it doesn't hold significance in modeling**"
   ]
  },
  {
   "cell_type": "code",
   "execution_count": 22,
   "id": "c3861f99",
   "metadata": {
    "execution": {
     "iopub.execute_input": "2024-05-11T08:00:39.416170Z",
     "iopub.status.busy": "2024-05-11T08:00:39.415394Z",
     "iopub.status.idle": "2024-05-11T08:00:39.421210Z",
     "shell.execute_reply": "2024-05-11T08:00:39.420271Z"
    },
    "papermill": {
     "duration": 0.028654,
     "end_time": "2024-05-11T08:00:39.423702",
     "exception": false,
     "start_time": "2024-05-11T08:00:39.395048",
     "status": "completed"
    },
    "tags": []
   },
   "outputs": [],
   "source": [
    "df.drop(columns=['Store Number'],inplace=True)"
   ]
  },
  {
   "cell_type": "markdown",
   "id": "7c3e0d61",
   "metadata": {
    "papermill": {
     "duration": 0.022693,
     "end_time": "2024-05-11T08:00:39.472450",
     "exception": false,
     "start_time": "2024-05-11T08:00:39.449757",
     "status": "completed"
    },
    "tags": []
   },
   "source": [
    "**Create new column \"RevToArea\" based on the ratio of \"Revenue\" to \"AreaStore\"**"
   ]
  },
  {
   "cell_type": "code",
   "execution_count": 23,
   "id": "231bf8aa",
   "metadata": {
    "execution": {
     "iopub.execute_input": "2024-05-11T08:00:39.515296Z",
     "iopub.status.busy": "2024-05-11T08:00:39.514923Z",
     "iopub.status.idle": "2024-05-11T08:00:39.520630Z",
     "shell.execute_reply": "2024-05-11T08:00:39.519697Z"
    },
    "papermill": {
     "duration": 0.027616,
     "end_time": "2024-05-11T08:00:39.522691",
     "exception": false,
     "start_time": "2024-05-11T08:00:39.495075",
     "status": "completed"
    },
    "tags": []
   },
   "outputs": [],
   "source": [
    "df['RevToArea'] = df['Revenue'] / df['AreaStore']"
   ]
  },
  {
   "cell_type": "markdown",
   "id": "646034db",
   "metadata": {
    "papermill": {
     "duration": 0.018026,
     "end_time": "2024-05-11T08:00:39.559135",
     "exception": false,
     "start_time": "2024-05-11T08:00:39.541109",
     "status": "completed"
    },
    "tags": []
   },
   "source": [
    "**Defining X & Y**"
   ]
  },
  {
   "cell_type": "code",
   "execution_count": 24,
   "id": "e8f999ef",
   "metadata": {
    "execution": {
     "iopub.execute_input": "2024-05-11T08:00:39.599037Z",
     "iopub.status.busy": "2024-05-11T08:00:39.598237Z",
     "iopub.status.idle": "2024-05-11T08:00:39.604231Z",
     "shell.execute_reply": "2024-05-11T08:00:39.603194Z"
    },
    "papermill": {
     "duration": 0.028375,
     "end_time": "2024-05-11T08:00:39.606397",
     "exception": false,
     "start_time": "2024-05-11T08:00:39.578022",
     "status": "completed"
    },
    "tags": []
   },
   "outputs": [],
   "source": [
    "x = df[['Checkout Number','RevToArea']]\n",
    "y = df['Revenue']"
   ]
  },
  {
   "cell_type": "markdown",
   "id": "cbde49db",
   "metadata": {
    "papermill": {
     "duration": 0.018328,
     "end_time": "2024-05-11T08:00:39.643627",
     "exception": false,
     "start_time": "2024-05-11T08:00:39.625299",
     "status": "completed"
    },
    "tags": []
   },
   "source": [
    "**Train Test Split**"
   ]
  },
  {
   "cell_type": "code",
   "execution_count": 25,
   "id": "cf571ff5",
   "metadata": {
    "execution": {
     "iopub.execute_input": "2024-05-11T08:00:39.682552Z",
     "iopub.status.busy": "2024-05-11T08:00:39.681722Z",
     "iopub.status.idle": "2024-05-11T08:00:40.009728Z",
     "shell.execute_reply": "2024-05-11T08:00:40.008707Z"
    },
    "papermill": {
     "duration": 0.350134,
     "end_time": "2024-05-11T08:00:40.012249",
     "exception": false,
     "start_time": "2024-05-11T08:00:39.662115",
     "status": "completed"
    },
    "tags": []
   },
   "outputs": [],
   "source": [
    "from sklearn.model_selection import train_test_split\n",
    "x_train,x_test,y_train,y_test = train_test_split(x,y,test_size=0.2,random_state=42)"
   ]
  },
  {
   "cell_type": "markdown",
   "id": "54600077",
   "metadata": {
    "papermill": {
     "duration": 0.018394,
     "end_time": "2024-05-11T08:00:40.049740",
     "exception": false,
     "start_time": "2024-05-11T08:00:40.031346",
     "status": "completed"
    },
    "tags": []
   },
   "source": [
    "**Scaling**"
   ]
  },
  {
   "cell_type": "code",
   "execution_count": 26,
   "id": "b03d299f",
   "metadata": {
    "execution": {
     "iopub.execute_input": "2024-05-11T08:00:40.089206Z",
     "iopub.status.busy": "2024-05-11T08:00:40.088153Z",
     "iopub.status.idle": "2024-05-11T08:00:40.097710Z",
     "shell.execute_reply": "2024-05-11T08:00:40.096890Z"
    },
    "papermill": {
     "duration": 0.031599,
     "end_time": "2024-05-11T08:00:40.099912",
     "exception": false,
     "start_time": "2024-05-11T08:00:40.068313",
     "status": "completed"
    },
    "tags": []
   },
   "outputs": [],
   "source": [
    "from sklearn.preprocessing import MinMaxScaler\n",
    "sc = MinMaxScaler()\n",
    "x_train = sc.fit_transform(x_train)\n",
    "x_test = sc.transform(x_test)"
   ]
  },
  {
   "cell_type": "markdown",
   "id": "c13834ed",
   "metadata": {
    "papermill": {
     "duration": 0.018345,
     "end_time": "2024-05-11T08:00:40.137002",
     "exception": false,
     "start_time": "2024-05-11T08:00:40.118657",
     "status": "completed"
    },
    "tags": []
   },
   "source": [
    "# Multiple Linear Regression"
   ]
  },
  {
   "cell_type": "markdown",
   "id": "bcedcd5c",
   "metadata": {
    "papermill": {
     "duration": 0.018748,
     "end_time": "2024-05-11T08:00:40.174373",
     "exception": false,
     "start_time": "2024-05-11T08:00:40.155625",
     "status": "completed"
    },
    "tags": []
   },
   "source": [
    "**Modeling**"
   ]
  },
  {
   "cell_type": "code",
   "execution_count": 27,
   "id": "a872540d",
   "metadata": {
    "execution": {
     "iopub.execute_input": "2024-05-11T08:00:40.214759Z",
     "iopub.status.busy": "2024-05-11T08:00:40.213849Z",
     "iopub.status.idle": "2024-05-11T08:00:40.316250Z",
     "shell.execute_reply": "2024-05-11T08:00:40.315043Z"
    },
    "papermill": {
     "duration": 0.124813,
     "end_time": "2024-05-11T08:00:40.318352",
     "exception": false,
     "start_time": "2024-05-11T08:00:40.193539",
     "status": "completed"
    },
    "tags": []
   },
   "outputs": [
    {
     "name": "stdout",
     "output_type": "stream",
     "text": [
      "Coefficient: [5.86377364e+06 7.36938268e+02]\n",
      "Intercept: -18610687.417009693\n"
     ]
    }
   ],
   "source": [
    "from sklearn.model_selection import train_test_split\n",
    "x_train,x_test,y_train,y_test = train_test_split(x,y,train_size=0.8,random_state=11)\n",
    "\n",
    "from sklearn.linear_model import LinearRegression\n",
    "reg=LinearRegression()\n",
    "reg.fit(x_train,y_train)\n",
    "\n",
    "print('Coefficient:',reg.coef_)\n",
    "print('Intercept:',reg.intercept_)"
   ]
  },
  {
   "cell_type": "markdown",
   "id": "9a2a9144",
   "metadata": {
    "papermill": {
     "duration": 0.018211,
     "end_time": "2024-05-11T08:00:40.355263",
     "exception": false,
     "start_time": "2024-05-11T08:00:40.337052",
     "status": "completed"
    },
    "tags": []
   },
   "source": [
    "**Evaluation**"
   ]
  },
  {
   "cell_type": "code",
   "execution_count": 28,
   "id": "a2f4fbbb",
   "metadata": {
    "execution": {
     "iopub.execute_input": "2024-05-11T08:00:40.403301Z",
     "iopub.status.busy": "2024-05-11T08:00:40.402855Z",
     "iopub.status.idle": "2024-05-11T08:00:40.441785Z",
     "shell.execute_reply": "2024-05-11T08:00:40.440756Z"
    },
    "papermill": {
     "duration": 0.068288,
     "end_time": "2024-05-11T08:00:40.444694",
     "exception": false,
     "start_time": "2024-05-11T08:00:40.376406",
     "status": "completed"
    },
    "tags": []
   },
   "outputs": [
    {
     "name": "stdout",
     "output_type": "stream",
     "text": [
      "Train R2: 0.6545013988817951\n",
      "Test R2: 0.4847994823218026\n",
      "CV score: 0.7039767683286489\n"
     ]
    }
   ],
   "source": [
    "train_pred = reg.predict(x_train)\n",
    "from sklearn.metrics import r2_score\n",
    "print('Train R2:',r2_score(train_pred,y_train))\n",
    "\n",
    "test_pred = reg.predict(x_test)\n",
    "print('Test R2:',r2_score(test_pred,y_test))\n",
    "\n",
    "from sklearn.model_selection import cross_val_score\n",
    "print('CV score:',cross_val_score(reg,x_train,y_train,cv=5).mean())"
   ]
  },
  {
   "cell_type": "markdown",
   "id": "1b89732c",
   "metadata": {
    "papermill": {
     "duration": 0.019543,
     "end_time": "2024-05-11T08:00:40.485398",
     "exception": false,
     "start_time": "2024-05-11T08:00:40.465855",
     "status": "completed"
    },
    "tags": []
   },
   "source": [
    "**Assumptions for Linear Regression**"
   ]
  },
  {
   "cell_type": "code",
   "execution_count": 29,
   "id": "f8dfff0c",
   "metadata": {
    "execution": {
     "iopub.execute_input": "2024-05-11T08:00:40.525645Z",
     "iopub.status.busy": "2024-05-11T08:00:40.524752Z",
     "iopub.status.idle": "2024-05-11T08:00:40.529608Z",
     "shell.execute_reply": "2024-05-11T08:00:40.528681Z"
    },
    "papermill": {
     "duration": 0.02713,
     "end_time": "2024-05-11T08:00:40.531628",
     "exception": false,
     "start_time": "2024-05-11T08:00:40.504498",
     "status": "completed"
    },
    "tags": []
   },
   "outputs": [],
   "source": [
    "error = y_test - test_pred"
   ]
  },
  {
   "cell_type": "markdown",
   "id": "fad9b4c8",
   "metadata": {
    "papermill": {
     "duration": 0.01867,
     "end_time": "2024-05-11T08:00:40.569524",
     "exception": false,
     "start_time": "2024-05-11T08:00:40.550854",
     "status": "completed"
    },
    "tags": []
   },
   "source": [
    "**Linearity of Error**"
   ]
  },
  {
   "cell_type": "code",
   "execution_count": 30,
   "id": "b29bd348",
   "metadata": {
    "execution": {
     "iopub.execute_input": "2024-05-11T08:00:40.608930Z",
     "iopub.status.busy": "2024-05-11T08:00:40.608531Z",
     "iopub.status.idle": "2024-05-11T08:00:40.831956Z",
     "shell.execute_reply": "2024-05-11T08:00:40.830859Z"
    },
    "papermill": {
     "duration": 0.245792,
     "end_time": "2024-05-11T08:00:40.834303",
     "exception": false,
     "start_time": "2024-05-11T08:00:40.588511",
     "status": "completed"
    },
    "tags": []
   },
   "outputs": [
    {
     "data": {
      "image/png": "[encoded data removed]",
      "text/plain": [
       "<Figure size 640x480 with 1 Axes>"
      ]
     },
     "metadata": {},
     "output_type": "display_data"
    }
   ],
   "source": [
    "sns.scatterplot(x=y_test,y=error)\n",
    "plt.xlabel('Fitted Values')\n",
    "plt.ylabel('Error')\n",
    "plt.show()"
   ]
  },
  {
   "cell_type": "markdown",
   "id": "00b9b9e4",
   "metadata": {
    "papermill": {
     "duration": 0.018976,
     "end_time": "2024-05-11T08:00:40.872799",
     "exception": false,
     "start_time": "2024-05-11T08:00:40.853823",
     "status": "completed"
    },
    "tags": []
   },
   "source": [
    "**Normality of Error**"
   ]
  },
  {
   "cell_type": "code",
   "execution_count": 31,
   "id": "f844045b",
   "metadata": {
    "execution": {
     "iopub.execute_input": "2024-05-11T08:00:40.913270Z",
     "iopub.status.busy": "2024-05-11T08:00:40.912209Z",
     "iopub.status.idle": "2024-05-11T08:00:41.260720Z",
     "shell.execute_reply": "2024-05-11T08:00:41.259710Z"
    },
    "papermill": {
     "duration": 0.371238,
     "end_time": "2024-05-11T08:00:41.263088",
     "exception": false,
     "start_time": "2024-05-11T08:00:40.891850",
     "status": "completed"
    },
    "tags": []
   },
   "outputs": [
    {
     "data": {
      "image/png": "[encoded data removed]",
      "text/plain": [
       "<Figure size 500x500 with 1 Axes>"
      ]
     },
     "metadata": {},
     "output_type": "display_data"
    }
   ],
   "source": [
    "sns.displot(error,kde=True)\n",
    "plt.show()"
   ]
  },
  {
   "cell_type": "markdown",
   "id": "f167c334",
   "metadata": {
    "papermill": {
     "duration": 0.019473,
     "end_time": "2024-05-11T08:00:41.302246",
     "exception": false,
     "start_time": "2024-05-11T08:00:41.282773",
     "status": "completed"
    },
    "tags": []
   },
   "source": [
    "**Equal Variance of Error**"
   ]
  },
  {
   "cell_type": "code",
   "execution_count": 32,
   "id": "ff5a7112",
   "metadata": {
    "execution": {
     "iopub.execute_input": "2024-05-11T08:00:41.342782Z",
     "iopub.status.busy": "2024-05-11T08:00:41.342055Z",
     "iopub.status.idle": "2024-05-11T08:00:41.532776Z",
     "shell.execute_reply": "2024-05-11T08:00:41.531780Z"
    },
    "papermill": {
     "duration": 0.213347,
     "end_time": "2024-05-11T08:00:41.534980",
     "exception": false,
     "start_time": "2024-05-11T08:00:41.321633",
     "status": "completed"
    },
    "tags": []
   },
   "outputs": [
    {
     "data": {
      "image/png": "[encoded data removed]",
      "text/plain": [
       "<Figure size 640x480 with 1 Axes>"
      ]
     },
     "metadata": {},
     "output_type": "display_data"
    }
   ],
   "source": [
    "sns.scatterplot(x=test_pred,y=error)\n",
    "plt.axhline(y=0,color='red')\n",
    "plt.xlabel('Fitted Values')\n",
    "plt.ylabel('Error')\n",
    "plt.show()"
   ]
  },
  {
   "cell_type": "markdown",
   "id": "175ee1fd",
   "metadata": {
    "papermill": {
     "duration": 0.019579,
     "end_time": "2024-05-11T08:00:41.574423",
     "exception": false,
     "start_time": "2024-05-11T08:00:41.554844",
     "status": "completed"
    },
    "tags": []
   },
   "source": [
    "**Variable Significance**"
   ]
  },
  {
   "cell_type": "code",
   "execution_count": 33,
   "id": "e442bbac",
   "metadata": {
    "execution": {
     "iopub.execute_input": "2024-05-11T08:00:41.615624Z",
     "iopub.status.busy": "2024-05-11T08:00:41.614683Z",
     "iopub.status.idle": "2024-05-11T08:00:41.994654Z",
     "shell.execute_reply": "2024-05-11T08:00:41.993691Z"
    },
    "papermill": {
     "duration": 0.402751,
     "end_time": "2024-05-11T08:00:41.996755",
     "exception": false,
     "start_time": "2024-05-11T08:00:41.594004",
     "status": "completed"
    },
    "tags": []
   },
   "outputs": [
    {
     "data": {
      "text/html": [
       "<table class=\"simpletable\">\n",
       "<caption>OLS Regression Results</caption>\n",
       "<tr>\n",
       "  <th>Dep. Variable:</th>            <td>y</td>        <th>  R-squared:         </th> <td>   0.704</td>\n",
       "</tr>\n",
       "<tr>\n",
       "  <th>Model:</th>                   <td>OLS</td>       <th>  Adj. R-squared:    </th> <td>   0.699</td>\n",
       "</tr>\n",
       "<tr>\n",
       "  <th>Method:</th>             <td>Least Squares</td>  <th>  F-statistic:       </th> <td>   137.1</td>\n",
       "</tr>\n",
       "<tr>\n",
       "  <th>Date:</th>             <td>Sat, 11 May 2024</td> <th>  Prob (F-statistic):</th> <td>3.62e-31</td>\n",
       "</tr>\n",
       "<tr>\n",
       "  <th>Time:</th>                 <td>08:00:41</td>     <th>  Log-Likelihood:    </th> <td> -2081.7</td>\n",
       "</tr>\n",
       "<tr>\n",
       "  <th>No. Observations:</th>      <td>   118</td>      <th>  AIC:               </th> <td>   4169.</td>\n",
       "</tr>\n",
       "<tr>\n",
       "  <th>Df Residuals:</th>          <td>   115</td>      <th>  BIC:               </th> <td>   4178.</td>\n",
       "</tr>\n",
       "<tr>\n",
       "  <th>Df Model:</th>              <td>     2</td>      <th>                     </th>     <td> </td>   \n",
       "</tr>\n",
       "<tr>\n",
       "  <th>Covariance Type:</th>      <td>nonrobust</td>    <th>                     </th>     <td> </td>   \n",
       "</tr>\n",
       "</table>\n",
       "<table class=\"simpletable\">\n",
       "<tr>\n",
       "      <td></td>         <th>coef</th>     <th>std err</th>      <th>t</th>      <th>P>|t|</th>  <th>[0.025</th>    <th>0.975]</th>  \n",
       "</tr>\n",
       "<tr>\n",
       "  <th>Intercept</th> <td>-1.427e+07</td> <td> 2.56e+06</td> <td>   -5.566</td> <td> 0.000</td> <td>-1.94e+07</td> <td>-9.19e+06</td>\n",
       "</tr>\n",
       "<tr>\n",
       "  <th>x[0]</th>      <td> 5.972e+06</td> <td> 3.88e+05</td> <td>   15.405</td> <td> 0.000</td> <td>  5.2e+06</td> <td> 6.74e+06</td>\n",
       "</tr>\n",
       "<tr>\n",
       "  <th>x[1]</th>      <td>  480.6137</td> <td>   75.784</td> <td>    6.342</td> <td> 0.000</td> <td>  330.501</td> <td>  630.727</td>\n",
       "</tr>\n",
       "</table>\n",
       "<table class=\"simpletable\">\n",
       "<tr>\n",
       "  <th>Omnibus:</th>       <td>14.712</td> <th>  Durbin-Watson:     </th> <td>   2.070</td>\n",
       "</tr>\n",
       "<tr>\n",
       "  <th>Prob(Omnibus):</th> <td> 0.001</td> <th>  Jarque-Bera (JB):  </th> <td>  46.947</td>\n",
       "</tr>\n",
       "<tr>\n",
       "  <th>Skew:</th>          <td> 0.224</td> <th>  Prob(JB):          </th> <td>6.39e-11</td>\n",
       "</tr>\n",
       "<tr>\n",
       "  <th>Kurtosis:</th>      <td> 6.057</td> <th>  Cond. No.          </th> <td>5.83e+04</td>\n",
       "</tr>\n",
       "</table><br/><br/>Notes:<br/>[1] Standard Errors assume that the covariance matrix of the errors is correctly specified.<br/>[2] The condition number is large, 5.83e+04. This might indicate that there are<br/>strong multicollinearity or other numerical problems."
      ],
      "text/latex": [
       "\\begin{center}\n",
       "\\begin{tabular}{lclc}\n",
       "\\toprule\n",
       "\\textbf{Dep. Variable:}    &        y         & \\textbf{  R-squared:         } &     0.704   \\\\\n",
       "\\textbf{Model:}            &       OLS        & \\textbf{  Adj. R-squared:    } &     0.699   \\\\\n",
       "\\textbf{Method:}           &  Least Squares   & \\textbf{  F-statistic:       } &     137.1   \\\\\n",
       "\\textbf{Date:}             & Sat, 11 May 2024 & \\textbf{  Prob (F-statistic):} &  3.62e-31   \\\\\n",
       "\\textbf{Time:}             &     08:00:41     & \\textbf{  Log-Likelihood:    } &   -2081.7   \\\\\n",
       "\\textbf{No. Observations:} &         118      & \\textbf{  AIC:               } &     4169.   \\\\\n",
       "\\textbf{Df Residuals:}     &         115      & \\textbf{  BIC:               } &     4178.   \\\\\n",
       "\\textbf{Df Model:}         &           2      & \\textbf{                     } &             \\\\\n",
       "\\textbf{Covariance Type:}  &    nonrobust     & \\textbf{                     } &             \\\\\n",
       "\\bottomrule\n",
       "\\end{tabular}\n",
       "\\begin{tabular}{lcccccc}\n",
       "                   & \\textbf{coef} & \\textbf{std err} & \\textbf{t} & \\textbf{P$> |$t$|$} & \\textbf{[0.025} & \\textbf{0.975]}  \\\\\n",
       "\\midrule\n",
       "\\textbf{Intercept} &   -1.427e+07  &     2.56e+06     &    -5.566  &         0.000        &    -1.94e+07    &    -9.19e+06     \\\\\n",
       "\\textbf{x[0]}      &    5.972e+06  &     3.88e+05     &    15.405  &         0.000        &      5.2e+06    &     6.74e+06     \\\\\n",
       "\\textbf{x[1]}      &     480.6137  &       75.784     &     6.342  &         0.000        &      330.501    &      630.727     \\\\\n",
       "\\bottomrule\n",
       "\\end{tabular}\n",
       "\\begin{tabular}{lclc}\n",
       "\\textbf{Omnibus:}       & 14.712 & \\textbf{  Durbin-Watson:     } &    2.070  \\\\\n",
       "\\textbf{Prob(Omnibus):} &  0.001 & \\textbf{  Jarque-Bera (JB):  } &   46.947  \\\\\n",
       "\\textbf{Skew:}          &  0.224 & \\textbf{  Prob(JB):          } & 6.39e-11  \\\\\n",
       "\\textbf{Kurtosis:}      &  6.057 & \\textbf{  Cond. No.          } & 5.83e+04  \\\\\n",
       "\\bottomrule\n",
       "\\end{tabular}\n",
       "%\\caption{OLS Regression Results}\n",
       "\\end{center}\n",
       "\n",
       "Notes: \\newline\n",
       " [1] Standard Errors assume that the covariance matrix of the errors is correctly specified. \\newline\n",
       " [2] The condition number is large, 5.83e+04. This might indicate that there are \\newline\n",
       " strong multicollinearity or other numerical problems."
      ],
      "text/plain": [
       "<class 'statsmodels.iolib.summary.Summary'>\n",
       "\"\"\"\n",
       "                            OLS Regression Results                            \n",
       "==============================================================================\n",
       "Dep. Variable:                      y   R-squared:                       0.704\n",
       "Model:                            OLS   Adj. R-squared:                  0.699\n",
       "Method:                 Least Squares   F-statistic:                     137.1\n",
       "Date:                Sat, 11 May 2024   Prob (F-statistic):           3.62e-31\n",
       "Time:                        08:00:41   Log-Likelihood:                -2081.7\n",
       "No. Observations:                 118   AIC:                             4169.\n",
       "Df Residuals:                     115   BIC:                             4178.\n",
       "Df Model:                           2                                         \n",
       "Covariance Type:            nonrobust                                         \n",
       "==============================================================================\n",
       "                 coef    std err          t      P>|t|      [0.025      0.975]\n",
       "------------------------------------------------------------------------------\n",
       "Intercept  -1.427e+07   2.56e+06     -5.566      0.000   -1.94e+07   -9.19e+06\n",
       "x[0]        5.972e+06   3.88e+05     15.405      0.000     5.2e+06    6.74e+06\n",
       "x[1]         480.6137     75.784      6.342      0.000     330.501     630.727\n",
       "==============================================================================\n",
       "Omnibus:                       14.712   Durbin-Watson:                   2.070\n",
       "Prob(Omnibus):                  0.001   Jarque-Bera (JB):               46.947\n",
       "Skew:                           0.224   Prob(JB):                     6.39e-11\n",
       "Kurtosis:                       6.057   Cond. No.                     5.83e+04\n",
       "==============================================================================\n",
       "\n",
       "Notes:\n",
       "[1] Standard Errors assume that the covariance matrix of the errors is correctly specified.\n",
       "[2] The condition number is large, 5.83e+04. This might indicate that there are\n",
       "strong multicollinearity or other numerical problems.\n",
       "\"\"\""
      ]
     },
     "execution_count": 33,
     "metadata": {},
     "output_type": "execute_result"
    }
   ],
   "source": [
    "import statsmodels.formula.api as smf\n",
    "model = smf.ols('y~x',data=df).fit()\n",
    "model.summary()"
   ]
  },
  {
   "cell_type": "markdown",
   "id": "6a98a158",
   "metadata": {
    "papermill": {
     "duration": 0.019853,
     "end_time": "2024-05-11T08:00:42.036859",
     "exception": false,
     "start_time": "2024-05-11T08:00:42.017006",
     "status": "completed"
    },
    "tags": []
   },
   "source": [
    "# Polynomial Regression"
   ]
  },
  {
   "cell_type": "markdown",
   "id": "27f6608e",
   "metadata": {
    "papermill": {
     "duration": 0.019514,
     "end_time": "2024-05-11T08:00:42.076180",
     "exception": false,
     "start_time": "2024-05-11T08:00:42.056666",
     "status": "completed"
    },
    "tags": []
   },
   "source": [
    "**HyperParameter Tunning** (for finding best degree)"
   ]
  },
  {
   "cell_type": "code",
   "execution_count": 34,
   "id": "9654b16f",
   "metadata": {
    "execution": {
     "iopub.execute_input": "2024-05-11T08:00:42.118690Z",
     "iopub.status.busy": "2024-05-11T08:00:42.118134Z",
     "iopub.status.idle": "2024-05-11T08:00:42.210285Z",
     "shell.execute_reply": "2024-05-11T08:00:42.209112Z"
    },
    "papermill": {
     "duration": 0.116282,
     "end_time": "2024-05-11T08:00:42.212758",
     "exception": false,
     "start_time": "2024-05-11T08:00:42.096476",
     "status": "completed"
    },
    "tags": []
   },
   "outputs": [],
   "source": [
    "train_r2=[]\n",
    "test_r2=[]\n",
    "\n",
    "for i in range(2,11):\n",
    "    from sklearn.preprocessing import PolynomialFeatures\n",
    "    poly_converter = PolynomialFeatures(degree=i)\n",
    "    x_train_poly = pd.DataFrame(poly_converter.fit_transform(x_train))\n",
    "    \n",
    "    from sklearn.linear_model import LinearRegression\n",
    "    reg=LinearRegression()\n",
    "    reg.fit(x_train_poly,y_train)\n",
    "    \n",
    "    train_pred = reg.predict(x_train_poly)\n",
    "    train_r2.append(r2_score(train_pred,y_train))\n",
    "    \n",
    "    test_pred = reg.predict(poly_converter.fit_transform(x_test))\n",
    "    test_r2.append(r2_score(test_pred,y_test))"
   ]
  },
  {
   "cell_type": "code",
   "execution_count": 35,
   "id": "71a091d9",
   "metadata": {
    "execution": {
     "iopub.execute_input": "2024-05-11T08:00:42.256241Z",
     "iopub.status.busy": "2024-05-11T08:00:42.255173Z",
     "iopub.status.idle": "2024-05-11T08:00:42.262927Z",
     "shell.execute_reply": "2024-05-11T08:00:42.261842Z"
    },
    "papermill": {
     "duration": 0.031721,
     "end_time": "2024-05-11T08:00:42.264992",
     "exception": false,
     "start_time": "2024-05-11T08:00:42.233271",
     "status": "completed"
    },
    "tags": []
   },
   "outputs": [
    {
     "data": {
      "text/plain": [
       "[0.7485011108776083,\n",
       " 0.7806658795736766,\n",
       " 0.7778556361076343,\n",
       " 0.7590203229619242,\n",
       " 0.6132457629210606,\n",
       " 0.38882363958607735,\n",
       " 0.17557888705086877,\n",
       " -0.027274781172991425,\n",
       " -0.2310275725965638]"
      ]
     },
     "execution_count": 35,
     "metadata": {},
     "output_type": "execute_result"
    }
   ],
   "source": [
    "train_r2"
   ]
  },
  {
   "cell_type": "code",
   "execution_count": 36,
   "id": "d7c68605",
   "metadata": {
    "execution": {
     "iopub.execute_input": "2024-05-11T08:00:42.308013Z",
     "iopub.status.busy": "2024-05-11T08:00:42.307086Z",
     "iopub.status.idle": "2024-05-11T08:00:42.314631Z",
     "shell.execute_reply": "2024-05-11T08:00:42.313686Z"
    },
    "papermill": {
     "duration": 0.031397,
     "end_time": "2024-05-11T08:00:42.316719",
     "exception": false,
     "start_time": "2024-05-11T08:00:42.285322",
     "status": "completed"
    },
    "tags": []
   },
   "outputs": [
    {
     "data": {
      "text/plain": [
       "[0.8616453689875136,\n",
       " 0.6363718815926889,\n",
       " 0.15665987144422533,\n",
       " -0.03915666407532048,\n",
       " -0.04213999804373869,\n",
       " -0.04263717380383003,\n",
       " -0.041662962835979034,\n",
       " -0.04372923602927714,\n",
       " -0.04357916110250071]"
      ]
     },
     "execution_count": 36,
     "metadata": {},
     "output_type": "execute_result"
    }
   ],
   "source": [
    "test_r2"
   ]
  },
  {
   "cell_type": "markdown",
   "id": "fcdae89b",
   "metadata": {
    "papermill": {
     "duration": 0.020062,
     "end_time": "2024-05-11T08:00:42.356986",
     "exception": false,
     "start_time": "2024-05-11T08:00:42.336924",
     "status": "completed"
    },
    "tags": []
   },
   "source": [
    "**Modeling**"
   ]
  },
  {
   "cell_type": "code",
   "execution_count": 37,
   "id": "305a029f",
   "metadata": {
    "execution": {
     "iopub.execute_input": "2024-05-11T08:00:42.401297Z",
     "iopub.status.busy": "2024-05-11T08:00:42.400620Z",
     "iopub.status.idle": "2024-05-11T08:00:42.412741Z",
     "shell.execute_reply": "2024-05-11T08:00:42.411644Z"
    },
    "papermill": {
     "duration": 0.035867,
     "end_time": "2024-05-11T08:00:42.415205",
     "exception": false,
     "start_time": "2024-05-11T08:00:42.379338",
     "status": "completed"
    },
    "tags": []
   },
   "outputs": [
    {
     "name": "stdout",
     "output_type": "stream",
     "text": [
      "Coefficient: [ 0.00000000e+00  1.84323979e+06  5.00231314e+02  7.10563377e+04\n",
      "  1.59895576e+02 -8.53404449e-03]\n",
      "Intercept: -7311853.11229524\n"
     ]
    }
   ],
   "source": [
    "from sklearn.preprocessing import PolynomialFeatures\n",
    "polynomial_converter = PolynomialFeatures(degree=2)\n",
    "x_train_poly = pd.DataFrame(polynomial_converter.fit_transform(x_train))\n",
    "\n",
    "from sklearn.linear_model import LinearRegression\n",
    "reg1 = LinearRegression()\n",
    "reg1.fit(x_train_poly,y_train)\n",
    "\n",
    "print('Coefficient:',reg1.coef_)\n",
    "print('Intercept:',reg1.intercept_)"
   ]
  },
  {
   "cell_type": "markdown",
   "id": "17c50068",
   "metadata": {
    "papermill": {
     "duration": 0.01994,
     "end_time": "2024-05-11T08:00:42.456329",
     "exception": false,
     "start_time": "2024-05-11T08:00:42.436389",
     "status": "completed"
    },
    "tags": []
   },
   "source": [
    "**Evaluation**"
   ]
  },
  {
   "cell_type": "code",
   "execution_count": 38,
   "id": "ce5940cd",
   "metadata": {
    "execution": {
     "iopub.execute_input": "2024-05-11T08:00:42.498562Z",
     "iopub.status.busy": "2024-05-11T08:00:42.497904Z",
     "iopub.status.idle": "2024-05-11T08:00:42.532782Z",
     "shell.execute_reply": "2024-05-11T08:00:42.531622Z"
    },
    "papermill": {
     "duration": 0.058462,
     "end_time": "2024-05-11T08:00:42.534991",
     "exception": false,
     "start_time": "2024-05-11T08:00:42.476529",
     "status": "completed"
    },
    "tags": []
   },
   "outputs": [
    {
     "name": "stdout",
     "output_type": "stream",
     "text": [
      "Train R2: 0.7485011108776083\n",
      "Test R2: 0.8616453689875136\n",
      "CV score: 0.5068467951380189\n"
     ]
    }
   ],
   "source": [
    "train_pred = reg1.predict(x_train_poly)\n",
    "print('Train R2:',r2_score(train_pred,y_train))\n",
    "\n",
    "test_pred = reg1.predict(polynomial_converter.fit_transform(x_test))\n",
    "print('Test R2:',r2_score(test_pred,y_test))\n",
    "\n",
    "print('CV score:',cross_val_score(reg1,x,y,cv=5).mean())"
   ]
  },
  {
   "cell_type": "markdown",
   "id": "d20c70a7",
   "metadata": {
    "papermill": {
     "duration": 0.019928,
     "end_time": "2024-05-11T08:00:42.575291",
     "exception": false,
     "start_time": "2024-05-11T08:00:42.555363",
     "status": "completed"
    },
    "tags": []
   },
   "source": [
    "# Lasso Regularization"
   ]
  },
  {
   "cell_type": "markdown",
   "id": "1aad246f",
   "metadata": {
    "papermill": {
     "duration": 0.020042,
     "end_time": "2024-05-11T08:00:42.615531",
     "exception": false,
     "start_time": "2024-05-11T08:00:42.595489",
     "status": "completed"
    },
    "tags": []
   },
   "source": [
    "**HyperParameter Tunning** (for finding best value of α)"
   ]
  },
  {
   "cell_type": "code",
   "execution_count": 39,
   "id": "03dbc8ff",
   "metadata": {
    "execution": {
     "iopub.execute_input": "2024-05-11T08:00:42.657599Z",
     "iopub.status.busy": "2024-05-11T08:00:42.657218Z",
     "iopub.status.idle": "2024-05-11T08:00:42.793454Z",
     "shell.execute_reply": "2024-05-11T08:00:42.792482Z"
    },
    "papermill": {
     "duration": 0.159989,
     "end_time": "2024-05-11T08:00:42.795728",
     "exception": false,
     "start_time": "2024-05-11T08:00:42.635739",
     "status": "completed"
    },
    "tags": []
   },
   "outputs": [
    {
     "data": {
      "text/plain": [
       "{'alpha': 0.5}"
      ]
     },
     "execution_count": 39,
     "metadata": {},
     "output_type": "execute_result"
    }
   ],
   "source": [
    "from sklearn.model_selection import GridSearchCV\n",
    "from sklearn.linear_model import Lasso\n",
    "estimator = Lasso()\n",
    "\n",
    "param_grid = {'alpha':[0.1,0.5,1,7,50,60]}\n",
    "\n",
    "model = GridSearchCV(estimator,param_grid,cv=5,scoring='r2')\n",
    "\n",
    "model.fit(x_train,y_train)\n",
    "\n",
    "model.best_params_"
   ]
  },
  {
   "cell_type": "markdown",
   "id": "9e89bce5",
   "metadata": {
    "papermill": {
     "duration": 0.019989,
     "end_time": "2024-05-11T08:00:42.836375",
     "exception": false,
     "start_time": "2024-05-11T08:00:42.816386",
     "status": "completed"
    },
    "tags": []
   },
   "source": [
    "**Modeling**"
   ]
  },
  {
   "cell_type": "code",
   "execution_count": 40,
   "id": "c6b83ad2",
   "metadata": {
    "execution": {
     "iopub.execute_input": "2024-05-11T08:00:42.878748Z",
     "iopub.status.busy": "2024-05-11T08:00:42.878092Z",
     "iopub.status.idle": "2024-05-11T08:00:42.886616Z",
     "shell.execute_reply": "2024-05-11T08:00:42.885676Z"
    },
    "papermill": {
     "duration": 0.032064,
     "end_time": "2024-05-11T08:00:42.888775",
     "exception": false,
     "start_time": "2024-05-11T08:00:42.856711",
     "status": "completed"
    },
    "tags": []
   },
   "outputs": [
    {
     "name": "stdout",
     "output_type": "stream",
     "text": [
      "Coefficient: [5.86376503e+06 7.36938167e+02]\n",
      "Intercept: -18610644.456349935\n"
     ]
    }
   ],
   "source": [
    "from sklearn.linear_model import Lasso\n",
    "lasso = Lasso(alpha=60)\n",
    "lasso.fit(x_train,y_train)\n",
    "\n",
    "print('Coefficient:',lasso.coef_)\n",
    "print('Intercept:',lasso.intercept_)"
   ]
  },
  {
   "cell_type": "markdown",
   "id": "917ed461",
   "metadata": {
    "papermill": {
     "duration": 0.020004,
     "end_time": "2024-05-11T08:00:42.929292",
     "exception": false,
     "start_time": "2024-05-11T08:00:42.909288",
     "status": "completed"
    },
    "tags": []
   },
   "source": [
    "**Evaluation**"
   ]
  },
  {
   "cell_type": "code",
   "execution_count": 41,
   "id": "9c73717d",
   "metadata": {
    "execution": {
     "iopub.execute_input": "2024-05-11T08:00:42.972125Z",
     "iopub.status.busy": "2024-05-11T08:00:42.971339Z",
     "iopub.status.idle": "2024-05-11T08:00:43.003307Z",
     "shell.execute_reply": "2024-05-11T08:00:43.002195Z"
    },
    "papermill": {
     "duration": 0.055782,
     "end_time": "2024-05-11T08:00:43.005432",
     "exception": false,
     "start_time": "2024-05-11T08:00:42.949650",
     "status": "completed"
    },
    "tags": []
   },
   "outputs": [
    {
     "name": "stdout",
     "output_type": "stream",
     "text": [
      "Train R2: 0.6545005658582823\n",
      "Test R2: 0.48479857627777134\n",
      "CV score 0.5068469002820704\n"
     ]
    }
   ],
   "source": [
    "train_pred = lasso.predict(x_train)\n",
    "print('Train R2:',r2_score(train_pred,y_train))\n",
    "\n",
    "test_pred = lasso.predict(x_test)\n",
    "print('Test R2:',r2_score(test_pred,y_test))\n",
    "\n",
    "print('CV score',cross_val_score(lasso,x,y,cv=5).mean())"
   ]
  },
  {
   "cell_type": "markdown",
   "id": "6912792a",
   "metadata": {
    "papermill": {
     "duration": 0.020194,
     "end_time": "2024-05-11T08:00:43.046748",
     "exception": false,
     "start_time": "2024-05-11T08:00:43.026554",
     "status": "completed"
    },
    "tags": []
   },
   "source": [
    "# Ridge Regularization"
   ]
  },
  {
   "cell_type": "markdown",
   "id": "e87d885f",
   "metadata": {
    "papermill": {
     "duration": 0.020263,
     "end_time": "2024-05-11T08:00:43.087260",
     "exception": false,
     "start_time": "2024-05-11T08:00:43.066997",
     "status": "completed"
    },
    "tags": []
   },
   "source": [
    "**HyperParameter Tunning**"
   ]
  },
  {
   "cell_type": "code",
   "execution_count": 42,
   "id": "96a130f0",
   "metadata": {
    "execution": {
     "iopub.execute_input": "2024-05-11T08:00:43.130709Z",
     "iopub.status.busy": "2024-05-11T08:00:43.129998Z",
     "iopub.status.idle": "2024-05-11T08:00:45.026519Z",
     "shell.execute_reply": "2024-05-11T08:00:45.025522Z"
    },
    "papermill": {
     "duration": 1.920458,
     "end_time": "2024-05-11T08:00:45.028676",
     "exception": false,
     "start_time": "2024-05-11T08:00:43.108218",
     "status": "completed"
    },
    "tags": []
   },
   "outputs": [
    {
     "data": {
      "text/plain": [
       "{'alpha': 1}"
      ]
     },
     "execution_count": 42,
     "metadata": {},
     "output_type": "execute_result"
    }
   ],
   "source": [
    "from sklearn.model_selection import GridSearchCV\n",
    "from sklearn.linear_model import Ridge\n",
    "estimator = Ridge()\n",
    "\n",
    "param_grid = {'alpha':list(range(1,100))}\n",
    "\n",
    "model = GridSearchCV(estimator,param_grid,cv=5,scoring='r2')\n",
    "\n",
    "model.fit(x_train,y_train)\n",
    "\n",
    "model.best_params_"
   ]
  },
  {
   "cell_type": "markdown",
   "id": "2a1a5629",
   "metadata": {
    "papermill": {
     "duration": 0.020333,
     "end_time": "2024-05-11T08:00:45.069926",
     "exception": false,
     "start_time": "2024-05-11T08:00:45.049593",
     "status": "completed"
    },
    "tags": []
   },
   "source": [
    "**Modeling**"
   ]
  },
  {
   "cell_type": "code",
   "execution_count": 43,
   "id": "5c8c95ab",
   "metadata": {
    "execution": {
     "iopub.execute_input": "2024-05-11T08:00:45.112917Z",
     "iopub.status.busy": "2024-05-11T08:00:45.112058Z",
     "iopub.status.idle": "2024-05-11T08:00:45.120851Z",
     "shell.execute_reply": "2024-05-11T08:00:45.119832Z"
    },
    "papermill": {
     "duration": 0.032463,
     "end_time": "2024-05-11T08:00:45.122888",
     "exception": false,
     "start_time": "2024-05-11T08:00:45.090425",
     "status": "completed"
    },
    "tags": []
   },
   "outputs": [
    {
     "name": "stdout",
     "output_type": "stream",
     "text": [
      "Coefficient: [5.42505241e+06 7.31851722e+02]\n",
      "Intercept: -16421490.590993386\n"
     ]
    }
   ],
   "source": [
    "from sklearn.linear_model import Ridge\n",
    "ridge = Ridge(alpha=53)\n",
    "ridge.fit(x_train,y_train)\n",
    "\n",
    "print('Coefficient:',ridge.coef_)\n",
    "print('Intercept:',ridge.intercept_)"
   ]
  },
  {
   "cell_type": "markdown",
   "id": "0799ec83",
   "metadata": {
    "papermill": {
     "duration": 0.02043,
     "end_time": "2024-05-11T08:00:45.163899",
     "exception": false,
     "start_time": "2024-05-11T08:00:45.143469",
     "status": "completed"
    },
    "tags": []
   },
   "source": [
    "**Evaluation**"
   ]
  },
  {
   "cell_type": "code",
   "execution_count": 44,
   "id": "870cd3fa",
   "metadata": {
    "execution": {
     "iopub.execute_input": "2024-05-11T08:00:45.206659Z",
     "iopub.status.busy": "2024-05-11T08:00:45.206280Z",
     "iopub.status.idle": "2024-05-11T08:00:45.240498Z",
     "shell.execute_reply": "2024-05-11T08:00:45.239267Z"
    },
    "papermill": {
     "duration": 0.058274,
     "end_time": "2024-05-11T08:00:45.242766",
     "exception": false,
     "start_time": "2024-05-11T08:00:45.184492",
     "status": "completed"
    },
    "tags": []
   },
   "outputs": [
    {
     "name": "stdout",
     "output_type": "stream",
     "text": [
      "Train R2: 0.6029398523359115\n",
      "Test R2: 0.4330334663406348\n",
      "CV score 0.5077300914707006\n"
     ]
    }
   ],
   "source": [
    "train_pred = ridge.predict(x_train)\n",
    "print('Train R2:',r2_score(train_pred,y_train))\n",
    "\n",
    "test_pred = ridge.predict(x_test)\n",
    "print('Test R2:',r2_score(test_pred,y_test))\n",
    "\n",
    "print('CV score',cross_val_score(ridge,x,y,cv=5).mean())"
   ]
  },
  {
   "cell_type": "markdown",
   "id": "ea07b1a4",
   "metadata": {
    "papermill": {
     "duration": 0.020802,
     "end_time": "2024-05-11T08:00:45.284938",
     "exception": false,
     "start_time": "2024-05-11T08:00:45.264136",
     "status": "completed"
    },
    "tags": []
   },
   "source": [
    "# ElasticNet Regularization"
   ]
  },
  {
   "cell_type": "markdown",
   "id": "c92b8604",
   "metadata": {
    "papermill": {
     "duration": 0.020831,
     "end_time": "2024-05-11T08:00:45.326882",
     "exception": false,
     "start_time": "2024-05-11T08:00:45.306051",
     "status": "completed"
    },
    "tags": []
   },
   "source": [
    "**HyperParameter Tunning** (for finding best value for α and λ)"
   ]
  },
  {
   "cell_type": "code",
   "execution_count": 45,
   "id": "b169ed07",
   "metadata": {
    "execution": {
     "iopub.execute_input": "2024-05-11T08:00:45.371083Z",
     "iopub.status.busy": "2024-05-11T08:00:45.370208Z",
     "iopub.status.idle": "2024-05-11T08:00:46.204332Z",
     "shell.execute_reply": "2024-05-11T08:00:46.203359Z"
    },
    "papermill": {
     "duration": 0.85854,
     "end_time": "2024-05-11T08:00:46.206573",
     "exception": false,
     "start_time": "2024-05-11T08:00:45.348033",
     "status": "completed"
    },
    "tags": []
   },
   "outputs": [
    {
     "data": {
      "text/plain": [
       "{'alpha': 0.1, 'l1_ratio': 1}"
      ]
     },
     "execution_count": 45,
     "metadata": {},
     "output_type": "execute_result"
    }
   ],
   "source": [
    "from sklearn.model_selection import GridSearchCV\n",
    "from sklearn.linear_model import ElasticNet\n",
    "estimator = ElasticNet()\n",
    "\n",
    "param_grid = {'alpha':[0.1,0.2,1,2,3,5,10], 'l1_ratio':[0.1,0.5,0.75,0.9,0.95,1]}\n",
    "\n",
    "model = GridSearchCV(estimator,param_grid,cv=5,scoring='neg_mean_squared_error')\n",
    "\n",
    "model.fit(x_train,y_train)\n",
    "\n",
    "model.best_params_"
   ]
  },
  {
   "cell_type": "markdown",
   "id": "151d8b77",
   "metadata": {
    "papermill": {
     "duration": 0.020882,
     "end_time": "2024-05-11T08:00:46.248709",
     "exception": false,
     "start_time": "2024-05-11T08:00:46.227827",
     "status": "completed"
    },
    "tags": []
   },
   "source": [
    "**Modeling**"
   ]
  },
  {
   "cell_type": "code",
   "execution_count": 46,
   "id": "42f395c4",
   "metadata": {
    "execution": {
     "iopub.execute_input": "2024-05-11T08:00:46.292560Z",
     "iopub.status.busy": "2024-05-11T08:00:46.291715Z",
     "iopub.status.idle": "2024-05-11T08:00:46.300789Z",
     "shell.execute_reply": "2024-05-11T08:00:46.299570Z"
    },
    "papermill": {
     "duration": 0.033124,
     "end_time": "2024-05-11T08:00:46.302791",
     "exception": false,
     "start_time": "2024-05-11T08:00:46.269667",
     "status": "completed"
    },
    "tags": []
   },
   "outputs": [
    {
     "name": "stdout",
     "output_type": "stream",
     "text": [
      "Coefficient: [5.42505241e+06 7.31851722e+02]\n",
      "Intercept: -16421490.590993386\n"
     ]
    }
   ],
   "source": [
    "from sklearn.linear_model import ElasticNet\n",
    "en = ElasticNet(alpha=3,l1_ratio=0.75)\n",
    "en.fit(x_train,y_train)\n",
    "\n",
    "print('Coefficient:',ridge.coef_)\n",
    "print('Intercept:',ridge.intercept_)"
   ]
  },
  {
   "cell_type": "markdown",
   "id": "62c30e4f",
   "metadata": {
    "papermill": {
     "duration": 0.020636,
     "end_time": "2024-05-11T08:00:46.344675",
     "exception": false,
     "start_time": "2024-05-11T08:00:46.324039",
     "status": "completed"
    },
    "tags": []
   },
   "source": [
    "**Evaluation**"
   ]
  },
  {
   "cell_type": "code",
   "execution_count": 47,
   "id": "47ece88a",
   "metadata": {
    "execution": {
     "iopub.execute_input": "2024-05-11T08:00:46.389112Z",
     "iopub.status.busy": "2024-05-11T08:00:46.388338Z",
     "iopub.status.idle": "2024-05-11T08:00:46.422045Z",
     "shell.execute_reply": "2024-05-11T08:00:46.420913Z"
    },
    "papermill": {
     "duration": 0.058313,
     "end_time": "2024-05-11T08:00:46.424049",
     "exception": false,
     "start_time": "2024-05-11T08:00:46.365736",
     "status": "completed"
    },
    "tags": []
   },
   "outputs": [
    {
     "name": "stdout",
     "output_type": "stream",
     "text": [
      "Train R2: 0.5835535789384938\n",
      "Test R2: 0.41527409469714227\n",
      "CV score 0.5057940464746621\n"
     ]
    }
   ],
   "source": [
    "train_pred = en.predict(x_train)\n",
    "print('Train R2:',r2_score(train_pred,y_train))\n",
    "\n",
    "test_pred = en.predict(x_test)\n",
    "print('Test R2:',r2_score(test_pred,y_test))\n",
    "\n",
    "print('CV score',cross_val_score(en,x,y,cv=5).mean())"
   ]
  },
  {
   "cell_type": "markdown",
   "id": "95c47dc0",
   "metadata": {
    "papermill": {
     "duration": 0.020954,
     "end_time": "2024-05-11T08:00:46.466389",
     "exception": false,
     "start_time": "2024-05-11T08:00:46.445435",
     "status": "completed"
    },
    "tags": []
   },
   "source": [
    "# THE END!"
   ]
  }
 ],
 "metadata": {
  "kaggle": {
   "accelerator": "none",
   "dataSources": [
    {
     "datasetId": 3887287,
     "sourceId": 6764170,
     "sourceType": "datasetVersion"
    }
   ],
   "dockerImageVersionId": 30698,
   "isGpuEnabled": false,
   "isInternetEnabled": true,
   "language": "python",
   "sourceType": "notebook"
  },
  "kernelspec": {
   "display_name": "Python 3",
   "language": "python",
   "name": "python3"
  },
  "language_info": {
   "codemirror_mode": {
    "name": "ipython",
    "version": 3
   },
   "file_extension": ".py",
   "mimetype": "text/x-python",
   "name": "python",
   "nbconvert_exporter": "python",
   "pygments_lexer": "ipython3",
   "version": "3.10.13"
  },
  "papermill": {
   "default_parameters": {},
   "duration": 17.664824,
   "end_time": "2024-05-11T08:00:47.108239",
   "environment_variables": {},
   "exception": null,
   "input_path": "__notebook__.ipynb",
   "output_path": "__notebook__.ipynb",
   "parameters": {},
   "start_time": "2024-05-11T08:00:29.443415",
   "version": "2.5.0"
  }
 },
 "nbformat": 4,
 "nbformat_minor": 5
}
